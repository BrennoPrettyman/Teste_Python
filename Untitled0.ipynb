{
  "nbformat": 4,
  "nbformat_minor": 0,
  "metadata": {
    "colab": {
      "provenance": []
    },
    "kernelspec": {
      "name": "python3",
      "display_name": "Python 3"
    },
    "language_info": {
      "name": "python"
    }
  },
  "cells": [
    {
      "cell_type": "markdown",
      "source": [],
      "metadata": {
        "id": "5RYjSIUySLDC"
      }
    },
    {
      "cell_type": "code",
      "execution_count": 89,
      "metadata": {
        "id": "ebFi7wQ8SJCI"
      },
      "outputs": [],
      "source": [
        "a = \"ola mundo,\""
      ]
    },
    {
      "cell_type": "code",
      "source": [
        "print(type(a))"
      ],
      "metadata": {
        "colab": {
          "base_uri": "https://localhost:8080/"
        },
        "id": "OSrIad80Tiby",
        "outputId": "ab98bf35-6855-4b1b-845c-c1cab2acaf1e"
      },
      "execution_count": 90,
      "outputs": [
        {
          "output_type": "stream",
          "name": "stdout",
          "text": [
            "<class 'str'>\n"
          ]
        }
      ]
    },
    {
      "cell_type": "code",
      "source": [
        "b = \" eu sou joas!\""
      ],
      "metadata": {
        "id": "VZjwO8c_TnPy"
      },
      "execution_count": 91,
      "outputs": []
    },
    {
      "cell_type": "code",
      "source": [
        "\n",
        "Primarylaranjas = input(\"Coloque a quantidade desejada...\")\n",
        "Primarylaranjas = int (Primarylaranjas)"
      ],
      "metadata": {
        "colab": {
          "base_uri": "https://localhost:8080/"
        },
        "id": "2-oUY4bgcP7N",
        "outputId": "290e5e26-f3f2-44b8-e97b-1c191bae6c70"
      },
      "execution_count": 92,
      "outputs": [
        {
          "name": "stdout",
          "output_type": "stream",
          "text": [
            "Coloque a quantidade desejada...9\n"
          ]
        }
      ]
    },
    {
      "cell_type": "code",
      "source": [
        "print (\"Suas quantidades de laranjas foram: \")\n",
        "print(Primarylaranjas)"
      ],
      "metadata": {
        "colab": {
          "base_uri": "https://localhost:8080/"
        },
        "id": "10_HeWxJdHx8",
        "outputId": "252d9ad4-4ea6-41af-862c-843677f2d2be"
      },
      "execution_count": 93,
      "outputs": [
        {
          "output_type": "stream",
          "name": "stdout",
          "text": [
            "Suas quantidades de laranjas foram: \n",
            "9\n"
          ]
        }
      ]
    },
    {
      "cell_type": "code",
      "source": [
        "if Primarylaranjas < 10 :\n",
        "  print (\"Você deve 2 reais\")\n",
        "\n",
        "\n",
        "elif Primarylaranjas > 10 :\n",
        "  print (\"Você deve 3 reais\")"
      ],
      "metadata": {
        "colab": {
          "base_uri": "https://localhost:8080/"
        },
        "id": "D9vTe6did8Jp",
        "outputId": "90b3e457-b5e9-4702-a76e-8eda9f128bf0"
      },
      "execution_count": 94,
      "outputs": [
        {
          "output_type": "stream",
          "name": "stdout",
          "text": [
            "Você deve 2 reais\n"
          ]
        }
      ]
    }
  ]
}